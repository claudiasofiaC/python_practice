{
 "cells": [
  {
   "cell_type": "markdown",
   "id": "fbb9aac6",
   "metadata": {},
   "source": [
    "## HACKER RANK\n",
    "\n",
    "### SQL Exercises: MySQL"
   ]
  },
  {
   "cell_type": "markdown",
   "id": "35971741",
   "metadata": {},
   "source": [
    " "
   ]
  },
  {
   "cell_type": "markdown",
   "id": "606dc7cd",
   "metadata": {},
   "source": [
    "### City"
   ]
  },
  {
   "cell_type": "markdown",
   "id": "677e76f9",
   "metadata": {},
   "source": [
    "Query a count of the number of cities in CITY having a Population larger than 100,000"
   ]
  },
  {
   "cell_type": "code",
   "execution_count": null,
   "id": "ae722480",
   "metadata": {},
   "outputs": [],
   "source": [
    "SELECT COUNT(ID) \n",
    "FROM CITY\n",
    "WHERE POPULATION > 100000;"
   ]
  },
  {
   "cell_type": "markdown",
   "id": "42b55f6c",
   "metadata": {},
   "source": [
    "Query the total population of all cities in CITY where District is California"
   ]
  },
  {
   "cell_type": "code",
   "execution_count": null,
   "id": "7a5aeaf6",
   "metadata": {},
   "outputs": [],
   "source": [
    "SELECT SUM(POPULATION) \n",
    "FROM CITY\n",
    "WHERE DISTRICT = 'California';"
   ]
  },
  {
   "cell_type": "markdown",
   "id": "0eea95a9",
   "metadata": {},
   "source": [
    "Query the average population for all cities in CITY, rounded down to the nearest integer."
   ]
  },
  {
   "cell_type": "code",
   "execution_count": null,
   "id": "c7a153ce",
   "metadata": {},
   "outputs": [],
   "source": [
    "SELECT ROUND(AVG(POPULATION))\n",
    "FROM CITY;"
   ]
  },
  {
   "cell_type": "markdown",
   "id": "6eb5a7fd",
   "metadata": {},
   "source": [
    "Query the difference between the maximum and minimum populations in CITY."
   ]
  },
  {
   "cell_type": "code",
   "execution_count": null,
   "id": "d198c370",
   "metadata": {},
   "outputs": [],
   "source": [
    "SELECT MAX(POPULATION) - MIN(POPULATION)\n",
    "FROM CITY;"
   ]
  },
  {
   "cell_type": "markdown",
   "id": "7798969e",
   "metadata": {},
   "source": [
    "Query the average population of all cities in CITY where District is California."
   ]
  },
  {
   "cell_type": "code",
   "execution_count": null,
   "id": "6696c64e",
   "metadata": {},
   "outputs": [],
   "source": [
    "SELECT AVG(POPULATION) \n",
    "FROM CITY \n",
    "WHERE DISTRICT = 'California';"
   ]
  },
  {
   "cell_type": "markdown",
   "id": "48ffabe5",
   "metadata": {},
   "source": [
    "Query the sum of the populations for all Japanese cities in CITY. The COUNTRYCODE for Japan is JPN."
   ]
  },
  {
   "cell_type": "code",
   "execution_count": null,
   "id": "140ebdb9",
   "metadata": {},
   "outputs": [],
   "source": [
    "SELECT SUM(POPULATION)\n",
    "FROM CITY\n",
    "WHERE COUNTRYCODE = 'JPN';"
   ]
  },
  {
   "cell_type": "markdown",
   "id": "b2715050",
   "metadata": {},
   "source": [
    "### Station"
   ]
  },
  {
   "cell_type": "markdown",
   "id": "ebc21332",
   "metadata": {},
   "source": [
    "Query the list of CITY names from STATION that do not start with vowels. Your result cannot contain duplicates"
   ]
  },
  {
   "cell_type": "code",
   "execution_count": null,
   "id": "96398579",
   "metadata": {},
   "outputs": [],
   "source": [
    "SELECT DISTINCT CITY\n",
    "FROM STATION\n",
    "WHERE LEFT(CITY, 1) NOT IN ('a', 'e', 'i', 'o', 'u')"
   ]
  },
  {
   "cell_type": "markdown",
   "id": "8f3619da",
   "metadata": {},
   "source": [
    "Query the list of CITY names from STATION that do not end with vowels. Your result cannot contain duplicates."
   ]
  },
  {
   "cell_type": "code",
   "execution_count": null,
   "id": "98d8258e",
   "metadata": {},
   "outputs": [],
   "source": [
    "SELECT DISTINCT CITY\n",
    "FROM STATION\n",
    "WHERE RIGHT(CITY, 1) NOT IN ('a', 'e', 'i', 'o', 'u')"
   ]
  },
  {
   "cell_type": "markdown",
   "id": "8bbd1d97",
   "metadata": {},
   "source": [
    "Query the list of CITY names from STATION that either do not start with vowels or do not end with vowels. Your result cannot contain duplicates"
   ]
  },
  {
   "cell_type": "code",
   "execution_count": null,
   "id": "de1e4513",
   "metadata": {},
   "outputs": [],
   "source": [
    "SELECT DISTINCT CITY\n",
    "FROM STATION\n",
    "WHERE LEFT(CITY, 1) NOT IN ('a', 'e', 'i', 'o', 'u') OR RIGHT(CITY, 1) NOT IN ('a', 'e', 'i', 'o', 'u');"
   ]
  },
  {
   "cell_type": "markdown",
   "id": "9ca8a4c5",
   "metadata": {},
   "source": [
    "Query the list of CITY names from STATION that do not start with vowels and do not end with vowels. Your result cannot contain duplicates"
   ]
  },
  {
   "cell_type": "code",
   "execution_count": null,
   "id": "933d2e91",
   "metadata": {},
   "outputs": [],
   "source": [
    "WHERE LEFT(CITY, 1) NOT IN ('a', 'e', 'i', 'o', 'u') AND RIGHT(CITY, 1) NOT IN ('a', 'e', 'i', 'o', 'u')"
   ]
  },
  {
   "cell_type": "markdown",
   "id": "3c6f752c",
   "metadata": {},
   "source": [
    "-Query the following two values from the **STATION** table:\n",
    "\n",
    "1. The sum of all values in *LAT_N* rounded to a scale of 2 decimal places.\n",
    "2. The sum of all values in *LONG_W* rounded to a scale of 2 decimal places."
   ]
  },
  {
   "cell_type": "code",
   "execution_count": null,
   "id": "b196dee1",
   "metadata": {},
   "outputs": [],
   "source": [
    "SELECT ROUND(SUM(LAT_N), 2), ROUND(SUM(LONG_W), 2)\n",
    "FROM STATION;"
   ]
  },
  {
   "cell_type": "markdown",
   "id": "e8946bb7",
   "metadata": {},
   "source": [
    "Query the sum of Northern Latitudes (LAT_N) from STATION having values greater than 38.7880 and less than 137.2345 . Truncate your answer to 4 decimal places"
   ]
  },
  {
   "cell_type": "code",
   "execution_count": null,
   "id": "c7508d42",
   "metadata": {},
   "outputs": [],
   "source": [
    "SELECT ROUND(SUM(LAT_N), 4)\n",
    "FROM STATION\n",
    "WHERE LAT_N > 38.7880 AND LAT_N < 137.2345;"
   ]
  },
  {
   "cell_type": "markdown",
   "id": "46543344",
   "metadata": {},
   "source": [
    "Query the greatest value of the Northern Latitudes (LAT_N) from STATION that is less than  137.2345. Truncate your answer to 4 decimal places"
   ]
  },
  {
   "cell_type": "code",
   "execution_count": null,
   "id": "aac1bf8e",
   "metadata": {},
   "outputs": [],
   "source": [
    "SELECT ROUND(MAX(LAT_N), 4)\n",
    "FROM STATION\n",
    "WHERE LAT_N < 137.2345;"
   ]
  },
  {
   "cell_type": "markdown",
   "id": "9d70b52f",
   "metadata": {},
   "source": [
    "Query the greatest value of the Northern Latitudes (LAT_N) from STATION that is less than  137.2345. Truncate your answer to 4 decimal places"
   ]
  },
  {
   "cell_type": "code",
   "execution_count": null,
   "id": "82037f41",
   "metadata": {},
   "outputs": [],
   "source": [
    "SELECT ROUND(LONG_W, 4)\n",
    "FROM STATION\n",
    "WHERE LAT_N < 137.2345\n",
    "ORDER BY LAT_N DESC LIMIT 1;"
   ]
  },
  {
   "cell_type": "markdown",
   "id": "fdf808ea",
   "metadata": {},
   "source": [
    "- for the largest LAT_N ==> ORDER BY LAT_N DESC LIMIT 1\n",
    "- round to 4th decimal place\n",
    "- LIMIT 1 gets you just 1 output\n",
    "- ASC is smallest on top\n",
    "- DESC is largest on top"
   ]
  },
  {
   "cell_type": "markdown",
   "id": "351e0c83",
   "metadata": {},
   "source": [
    "Query the smallest Northern Latitude (LAT_N) from STATION that is greater than 38.7780. Round your answer to4 decimal places"
   ]
  },
  {
   "cell_type": "code",
   "execution_count": null,
   "id": "c2629e72",
   "metadata": {},
   "outputs": [],
   "source": [
    "SELECT ROUND(LAT_N, 4)\n",
    "FROM STATION\n",
    "WHERE LAT_N > 38.7780\n",
    "ORDER BY LAT_N ASC LIMIT 1;"
   ]
  },
  {
   "cell_type": "code",
   "execution_count": null,
   "id": "c02b94e2",
   "metadata": {},
   "outputs": [],
   "source": []
  },
  {
   "cell_type": "code",
   "execution_count": null,
   "id": "a7fd3e73",
   "metadata": {},
   "outputs": [],
   "source": []
  },
  {
   "cell_type": "code",
   "execution_count": null,
   "id": "7c967f52",
   "metadata": {},
   "outputs": [],
   "source": []
  },
  {
   "cell_type": "code",
   "execution_count": null,
   "id": "d5c6f544",
   "metadata": {},
   "outputs": [],
   "source": []
  },
  {
   "cell_type": "code",
   "execution_count": null,
   "id": "5ac057f4",
   "metadata": {},
   "outputs": [],
   "source": []
  },
  {
   "cell_type": "code",
   "execution_count": null,
   "id": "972d3227",
   "metadata": {},
   "outputs": [],
   "source": []
  }
 ],
 "metadata": {
  "kernelspec": {
   "display_name": "Python 3 (ipykernel)",
   "language": "python",
   "name": "python3"
  },
  "language_info": {
   "codemirror_mode": {
    "name": "ipython",
    "version": 3
   },
   "file_extension": ".py",
   "mimetype": "text/x-python",
   "name": "python",
   "nbconvert_exporter": "python",
   "pygments_lexer": "ipython3",
   "version": "3.9.13"
  }
 },
 "nbformat": 4,
 "nbformat_minor": 5
}
